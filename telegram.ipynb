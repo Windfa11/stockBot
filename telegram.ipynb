{
 "cells": [
  {
   "cell_type": "code",
   "execution_count": null,
   "metadata": {},
   "outputs": [],
   "source": [
    "git clone https://github.com/RasaHQ/rasa_nlu.git\n",
    "cd rasa_nlu\n",
    "pip install -r requirements.txt\n",
    "pip install -e .\n",
    "\n",
    "pip install spacy\n",
    "python -m spacy download en_core_web_sm\n",
    "python -m spacy download en"
   ]
  },
  {
   "cell_type": "code",
   "execution_count": 1,
   "metadata": {},
   "outputs": [
    {
     "data": {
      "text/plain": [
       "<sqlite3.Cursor at 0x10ae993b0>"
      ]
     },
     "execution_count": 1,
     "metadata": {},
     "output_type": "execute_result"
    }
   ],
   "source": [
    "import sqlite3\n",
    "conn = sqlite3.connect('telepot_users.db')\n",
    "c = conn.cursor()\n",
    "\n",
    "# c.execute(\"DROP TABLE users\")\n",
    "\n",
    "c.execute(\"CREATE TABLE IF NOT EXISTS users(first_name text, last_name text, id int, newest_message_id int, PRIMARY KEY (id))\")\n",
    "\n",
    "# c.execute(\"SELECT id FROM users\")\n",
    "# print(c.fetchall())"
   ]
  },
  {
   "cell_type": "code",
   "execution_count": 2,
   "metadata": {},
   "outputs": [],
   "source": [
    "import requests\n",
    "\n",
    "bot_token = \"859640460:AAGw-HCQs9gpLR5G5OjcRAwXd7Og9a-d0oU\"  \n",
    "bot_url = \"https://api.telegram.org/bot\"\n",
    "\n",
    "users_id = []\n",
    "c.execute(\"SELECT id FROM users\")\n",
    "for i in c.fetchall():\n",
    "    users_id.append(i[0])\n",
    "\n",
    "users = []\n",
    "c.execute(\"SELECT * FROM users\")\n",
    "for i in c.fetchall():\n",
    "    user = {'first_name': i[0], 'last_name': i[1], 'id': i[2], 'newest_message_id': i[3]}\n",
    "    users.append(user)\n",
    "\n",
    "    \n",
    "params = {}"
   ]
  },
  {
   "cell_type": "markdown",
   "metadata": {},
   "source": [
    "#test\n",
    "query = \"INSERT INTO users(first_name, last_name, id, newest_message_id) VALUES('{0}', '{1}', '{2}', {3})\".format('test',\n",
    "                                                                                                                 'root',\n",
    "                                                                                                                 0,\n",
    "                                                                                                                 0)\n",
    "c.execute(query)\n",
    "c.execute(\"commit\")"
   ]
  },
  {
   "cell_type": "markdown",
   "metadata": {},
   "source": [
    "#Delete test data\n",
    "query = \"DELETE FROM users WHERE id=0\"\n",
    "c.execute(query)\n",
    "\n"
   ]
  },
  {
   "cell_type": "code",
   "execution_count": 3,
   "metadata": {},
   "outputs": [
    {
     "name": "stderr",
     "output_type": "stream",
     "text": [
      "/Users/Jerry/anaconda3/lib/python3.7/site-packages/rasa_nlu/training_data/training_data.py:176: UserWarning: Intent 'None' has only 1 training examples! Minimum is 2, training may fail.\n",
      "  self.MIN_EXAMPLES_PER_INTENT))\n"
     ]
    },
    {
     "name": "stdout",
     "output_type": "stream",
     "text": [
      "Fitting 2 folds for each of 6 candidates, totalling 12 fits\n"
     ]
    },
    {
     "name": "stderr",
     "output_type": "stream",
     "text": [
      "[Parallel(n_jobs=1)]: Using backend SequentialBackend with 1 concurrent workers.\n",
      "/Users/Jerry/anaconda3/lib/python3.7/site-packages/sklearn/metrics/classification.py:1437: UndefinedMetricWarning: F-score is ill-defined and being set to 0.0 in labels with no predicted samples.\n",
      "  'precision', 'predicted', average, warn_for)\n",
      "/Users/Jerry/anaconda3/lib/python3.7/site-packages/sklearn/metrics/classification.py:1437: UndefinedMetricWarning: F-score is ill-defined and being set to 0.0 in labels with no predicted samples.\n",
      "  'precision', 'predicted', average, warn_for)\n",
      "/Users/Jerry/anaconda3/lib/python3.7/site-packages/sklearn/metrics/classification.py:1437: UndefinedMetricWarning: F-score is ill-defined and being set to 0.0 in labels with no predicted samples.\n",
      "  'precision', 'predicted', average, warn_for)\n",
      "/Users/Jerry/anaconda3/lib/python3.7/site-packages/sklearn/metrics/classification.py:1437: UndefinedMetricWarning: F-score is ill-defined and being set to 0.0 in labels with no predicted samples.\n",
      "  'precision', 'predicted', average, warn_for)\n",
      "/Users/Jerry/anaconda3/lib/python3.7/site-packages/sklearn/metrics/classification.py:1437: UndefinedMetricWarning: F-score is ill-defined and being set to 0.0 in labels with no predicted samples.\n",
      "  'precision', 'predicted', average, warn_for)\n",
      "/Users/Jerry/anaconda3/lib/python3.7/site-packages/sklearn/metrics/classification.py:1437: UndefinedMetricWarning: F-score is ill-defined and being set to 0.0 in labels with no predicted samples.\n",
      "  'precision', 'predicted', average, warn_for)\n",
      "/Users/Jerry/anaconda3/lib/python3.7/site-packages/sklearn/metrics/classification.py:1437: UndefinedMetricWarning: F-score is ill-defined and being set to 0.0 in labels with no predicted samples.\n",
      "  'precision', 'predicted', average, warn_for)\n",
      "/Users/Jerry/anaconda3/lib/python3.7/site-packages/sklearn/metrics/classification.py:1437: UndefinedMetricWarning: F-score is ill-defined and being set to 0.0 in labels with no predicted samples.\n",
      "  'precision', 'predicted', average, warn_for)\n",
      "/Users/Jerry/anaconda3/lib/python3.7/site-packages/sklearn/metrics/classification.py:1437: UndefinedMetricWarning: F-score is ill-defined and being set to 0.0 in labels with no predicted samples.\n",
      "  'precision', 'predicted', average, warn_for)\n",
      "/Users/Jerry/anaconda3/lib/python3.7/site-packages/sklearn/metrics/classification.py:1437: UndefinedMetricWarning: F-score is ill-defined and being set to 0.0 in labels with no predicted samples.\n",
      "  'precision', 'predicted', average, warn_for)\n",
      "/Users/Jerry/anaconda3/lib/python3.7/site-packages/sklearn/metrics/classification.py:1437: UndefinedMetricWarning: F-score is ill-defined and being set to 0.0 in labels with no predicted samples.\n",
      "  'precision', 'predicted', average, warn_for)\n",
      "/Users/Jerry/anaconda3/lib/python3.7/site-packages/sklearn/metrics/classification.py:1437: UndefinedMetricWarning: F-score is ill-defined and being set to 0.0 in labels with no predicted samples.\n",
      "  'precision', 'predicted', average, warn_for)\n",
      "[Parallel(n_jobs=1)]: Done  12 out of  12 | elapsed:    0.0s finished\n"
     ]
    }
   ],
   "source": [
    "def sendText(chat_id, message):\n",
    "    send_text = 'https://api.telegram.org/bot' + bot_token + '/sendMessage?chat_id=' + str(chat_id) + '&parse_mode=Markdown&text=' + message\n",
    "\n",
    "    response = requests.get(send_text)\n",
    "\n",
    "    return response.json()\n",
    "\n",
    "\n",
    "# Import necessary modules\n",
    "from rasa_nlu.training_data import load_data\n",
    "from rasa_nlu.config import RasaNLUModelConfig\n",
    "from rasa_nlu.model import Trainer\n",
    "from rasa_nlu import config\n",
    "\n",
    "# Create a trainer that uses this config\n",
    "trainer = Trainer(config.load(\"config_spacy.yml\"))\n",
    "\n",
    "# Load the training data\n",
    "training_data = load_data('demo-rasa.json')\n",
    "\n",
    "# Create an interpreter by training the model\n",
    "interpreter = trainer.train(training_data)\n",
    "\n",
    "\n",
    "from iexfinance.stocks import Stock\n",
    "token = \"sk_adf7c15b0a0947b0b5de15437773e2bf\"\n",
    "\n",
    "\n",
    "def replyMessage(id, message):\n",
    "    if 'text' in message:\n",
    "        output = interpreter.parse(message['text'])\n",
    "        intent = output['intent']['name']\n",
    "        if intent == 'greet':\n",
    "            sendText(id, \"Hello!\")\n",
    "            sendText(id, \"I can search the stock information for you\")\n",
    "            sendText(id, \"you could enquire me specific stock price, trading volume and company market capitalization\")\n",
    "        elif intent == 'goodbye':\n",
    "            sendText(id, \"see you!\")  \n",
    "        elif 'stock_search' in intent:\n",
    "            if intent == \"stock_search\":\n",
    "                if params.get('intent'):\n",
    "                    if not params.get('company'):\n",
    "                        params['company'] = output[\"entities\"][0][\"value\"]\n",
    "                        \n",
    "                    s = Stock(params['company'], token=token)\n",
    "                    s = s.get_quote()\n",
    "                    if params['intent'] == \"stock_search_price\":\n",
    "                        sendText(id, \"{0} latest price is {1}\".format(params['company'], s['latestPrice']))\n",
    "                    elif params['intent'] == \"stock_search_marketCap\":\n",
    "                        sendText(id, \"market capitalization is {0}\".format(s['marketCap']))\n",
    "                    elif params['intent'] == \"stock_search_avgTotalVolume\":\n",
    "                        sendText(id, \"The average total volume of {0} is {1}\".format(params['company'], s['avgTotalVolume']))\n",
    "                    params.pop('intent')\n",
    "                    params.pop('company')\n",
    "                else:        \n",
    "                    sendText(id, \"Ok, what you want to know about? Stock price, market capitalization or trading volume\")\n",
    "            else:\n",
    "                params['intent'] = intent\n",
    "                for entity in output['entities']:\n",
    "                    params[entity['entity']] = str(entity[\"value\"])\n",
    "                                    \n",
    "                if params.get('company'):\n",
    "                    m = {'text': params.get('company')}\n",
    "                    replyMessage(id, m)\n",
    "                    return\n",
    "                sendText(id, \"OK, please enter the company name or stock code\")\n",
    "          \n",
    "        "
   ]
  },
  {
   "cell_type": "code",
   "execution_count": 4,
   "metadata": {},
   "outputs": [],
   "source": [
    "def saveUser(message):\n",
    "        users_id.append(message['from']['id'])                                                        \n",
    "        new_user = {'first_name': message['from']['first_name'],                                       \n",
    "                    'last_name': message['from']['last_name'],                                        \n",
    "                    'id': message['from']['id'],                                                      \n",
    "                    'newest_message_id': message['message_id']                                        \n",
    "                    }\n",
    "        users.append(new_user)\n",
    "        query = \"INSERT INTO users(first_name, last_name, id, newest_message_id) VALUES('{0}', '{1}', '{2}', {3})\".format(new_user['first_name'],\n",
    "                                                                                                                 new_user['last_name'],\n",
    "                                                                                                                 new_user['id'],\n",
    "                                                                                                                 new_user['newest_message_id'])\n",
    "        c.execute(query)\n",
    "        c.execute(\"commit\")"
   ]
  },
  {
   "cell_type": "code",
   "execution_count": 5,
   "metadata": {},
   "outputs": [],
   "source": [
    "def getMe():                                                             \n",
    "    return requests.get(bot_url + bot_token + '/getMe').json()           \n",
    "                                                                         \n",
    "                                                                         \n",
    "def getUpdates():                                                        \n",
    "    reply = requests.get(bot_url + bot_token + '/getUpdates').json()     \n",
    "    return reply                                                         \n",
    "                                                                         "
   ]
  },
  {
   "cell_type": "code",
   "execution_count": null,
   "metadata": {},
   "outputs": [
    {
     "name": "stdout",
     "output_type": "stream",
     "text": [
      "running...\n"
     ]
    }
   ],
   "source": [
    "import time\n",
    "\n",
    "print(\"running...\")\n",
    "while 1:\n",
    "    buffer = getUpdates()['result']\n",
    "\n",
    "    if buffer:                                                                                                                                                                                                          \n",
    "        for message in buffer:                                                                                \n",
    "            message = message['message']                                                                      \n",
    "            user_id = message['from']['id']                                                                   \n",
    "            if user_id not in users_id:\n",
    "\n",
    "                saveUser(message)                                   \n",
    "                sendText(new_user['id'], 'Hello ' + new_user['fist_name'])                                  \n",
    "                print(\"A new user come in\")\n",
    "\n",
    "            else:                                                                                             \n",
    "                for user in users:\n",
    "                    if user['id'] == user_id:\n",
    "                        if user.get('newest_message_id') < message['message_id']:                             \n",
    "                            user['newest_message_id'] = message['message_id']\n",
    "                            c.execute('UPDATE users SET newest_message_id = {0} WHERE id = {1}'.format(message['message_id'], user_id))\n",
    "                            replyMessage(user['id'], message)                                                                                                                                                                   \n",
    "    \n",
    "    time.sleep(3)\n"
   ]
  },
  {
   "cell_type": "code",
   "execution_count": null,
   "metadata": {},
   "outputs": [],
   "source": []
  }
 ],
 "metadata": {
  "kernelspec": {
   "display_name": "Python 3",
   "language": "python",
   "name": "python3"
  },
  "language_info": {
   "codemirror_mode": {
    "name": "ipython",
    "version": 3
   },
   "file_extension": ".py",
   "mimetype": "text/x-python",
   "name": "python",
   "nbconvert_exporter": "python",
   "pygments_lexer": "ipython3",
   "version": "3.7.3"
  }
 },
 "nbformat": 4,
 "nbformat_minor": 2
}
